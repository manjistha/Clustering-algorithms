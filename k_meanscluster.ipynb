{
  "nbformat": 4,
  "nbformat_minor": 0,
  "metadata": {
    "colab": {
      "name": "k_meanscluster.ipynb",
      "provenance": [],
      "collapsed_sections": []
    },
    "kernelspec": {
      "name": "python3",
      "display_name": "Python 3"
    }
  },
  "cells": [
    {
      "cell_type": "code",
      "metadata": {
        "id": "ldWpE9jNN6E5",
        "colab_type": "code",
        "colab": {}
      },
      "source": [
        ""
      ],
      "execution_count": 0,
      "outputs": []
    },
    {
      "cell_type": "code",
      "metadata": {
        "id": "rJDkkqybOHqe",
        "colab_type": "code",
        "colab": {}
      },
      "source": [
        "#Clustering means grouping of objects based on the information found in the data describing objects and their relationship"
      ],
      "execution_count": 0,
      "outputs": []
    },
    {
      "cell_type": "markdown",
      "metadata": {
        "id": "juu3GpSnN89u",
        "colab_type": "text"
      },
      "source": [
        "SIMPLE IMPLEMENTATION OF K-MEANS CLUSTERING\n"
      ]
    },
    {
      "cell_type": "markdown",
      "metadata": {
        "id": "9A2n3Ah_OhoL",
        "colab_type": "text"
      },
      "source": [
        "Initialisation:\n"
      ]
    },
    {
      "cell_type": "code",
      "metadata": {
        "id": "JXuUspZ1OlZa",
        "colab_type": "code",
        "colab": {
          "base_uri": "https://localhost:8080/",
          "height": 487
        },
        "outputId": "63d0c4a3-3d88-4631-a4fe-73e5dac655a2"
      },
      "source": [
        "import pandas as pd\n",
        "import numpy as np\n",
        "import matplotlib.pyplot as plt\n",
        "%matplotlib inline\n",
        "\n",
        "dp=pd.DataFrame({\n",
        "    'x':[10,12,15,20,5],\n",
        "    'y':[60,1,10,20,25]\n",
        "})\n",
        "\n",
        "np.random.seed(100)\n",
        "k=3\n",
        "#centroids[i]=[x,y]\n",
        "#the above values of x and y lie between 0 and 70 thus we can choose the limits as between 0 and 70\n",
        "centroids={\n",
        "    i+1:[np.random.randint(0,100),np.random.randint(0,100)]\n",
        "    for i in range(k)\n",
        "}\n",
        "\n",
        "#a scatterplot is created for ploting the corresponding values of x and y of the dataframe\n",
        "fig=plt.figure(figsize=(8,8))\n",
        "plt.scatter(dp['x'],dp['y'],color='k')\n",
        "colmap={1: 'r',2: 'g',3: 'b'}\n",
        "for i in centroids.keys():\n",
        "  plt.scatter(*centroids[i],color=colmap[i])\n",
        "plt.xlim(0,100)\n",
        "plt.ylim(0,100)\n",
        "plt.show()\n",
        "#red green blue are the three points selected as the centroids"
      ],
      "execution_count": 16,
      "outputs": [
        {
          "output_type": "display_data",
          "data": {
            "image/png": "[encoded data removed]",
            "text/plain": [
              "<Figure size 576x576 with 1 Axes>"
            ]
          },
          "metadata": {
            "tags": []
          }
        }
      ]
    }
  ]
}